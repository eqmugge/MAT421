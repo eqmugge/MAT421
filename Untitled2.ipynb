{
  "nbformat": 4,
  "nbformat_minor": 0,
  "metadata": {
    "colab": {
      "provenance": []
    },
    "kernelspec": {
      "name": "python3",
      "display_name": "Python 3"
    },
    "language_info": {
      "name": "python"
    }
  },
  "cells": [
    {
      "cell_type": "markdown",
      "source": [
        "convert 11(Base10) to binary\n",
        "  11(base10)=8+2+1\n",
        "            =1x2^3+0x2^2+1x2^1+1x2^0\n",
        "            =1011 (base2)"
      ],
      "metadata": {
        "id": "gOaGiZ07eWFA"
      }
    },
    {
      "cell_type": "code",
      "execution_count": 12,
      "metadata": {
        "colab": {
          "base_uri": "https://localhost:8080/"
        },
        "id": "PQmRkB2wdnmv",
        "outputId": "a15c487a-1975-4f9f-ec0a-696a70046efc"
      },
      "outputs": [
        {
          "output_type": "execute_result",
          "data": {
            "text/plain": [
              "85"
            ]
          },
          "metadata": {},
          "execution_count": 12
        }
      ],
      "source": [
        "def my_bin_2_dec(b):\n",
        "    d = 0\n",
        "    for n in range(1, len(b) + 1):\n",
        "        d += int(b[-n]) * 2**(n - 1)\n",
        "    return d\n",
        "\n",
        "# Output: 85\n",
        "my_bin_2_dec([1, 0, 1, 0, 1, 0, 1])"
      ]
    },
    {
      "cell_type": "code",
      "source": [
        "def my_dec_2_bin(d):\n",
        "    if d == 0:\n",
        "     return \"0\"\n",
        "    b= \"\"\n",
        "    while d>0:\n",
        "        r = d%2\n",
        "        b = str(r)+b\n",
        "        d = d // 2\n",
        "    return b\n",
        "    # Output: [1, 0, 0, 0, 0, 0, 1, 1, 0, 0, 0, 1]\n",
        "my_dec_2_bin(2097)"
      ],
      "metadata": {
        "colab": {
          "base_uri": "https://localhost:8080/",
          "height": 35
        },
        "id": "BA48-HAhmJhv",
        "outputId": "bf18fd63-3cce-4f96-ce24-a7ca61c023a9"
      },
      "execution_count": 21,
      "outputs": [
        {
          "output_type": "execute_result",
          "data": {
            "text/plain": [
              "'100000110001'"
            ],
            "application/vnd.google.colaboratory.intrinsic+json": {
              "type": "string"
            }
          },
          "metadata": {},
          "execution_count": 21
        }
      ]
    },
    {
      "cell_type": "code",
      "source": [
        "def my_dec_2_bin(d):\n",
        "    if d == 0:\n",
        "     return \"0\"\n",
        "    b= \"\"\n",
        "    while d>0:\n",
        "        r = d%2\n",
        "        b = str(r)+b\n",
        "        d = d // 2\n",
        "    return b\n",
        "def my_bin_2_dec(b):\n",
        "    d = 0\n",
        "    for n in range(1, len(b) + 1):\n",
        "        d += int(b[-n]) * 2**(n - 1)\n",
        "    return d\n",
        "my_bin_2_dec(my_dec_2_bin(12654))"
      ],
      "metadata": {
        "colab": {
          "base_uri": "https://localhost:8080/"
        },
        "id": "eUn0bovGreHH",
        "outputId": "354624f5-491d-4c3e-e49b-106973f34fd4"
      },
      "execution_count": 30,
      "outputs": [
        {
          "output_type": "execute_result",
          "data": {
            "text/plain": [
              "12654"
            ]
          },
          "metadata": {},
          "execution_count": 30
        }
      ]
    },
    {
      "cell_type": "markdown",
      "source": [
        "float: n=(−1)^(s)2^(e−1023)(1+f)\n",
        " (for 64-bit)"
      ],
      "metadata": {
        "id": "52T3BSb5pX26"
      }
    },
    {
      "cell_type": "code",
      "source": [
        "import sys\n",
        "sys.float_info\n",
        "\n",
        "import numpy as np\n",
        "\n",
        "1e9 == (1e9 + np.spacing(1e9)/3)\n"
      ],
      "metadata": {
        "colab": {
          "base_uri": "https://localhost:8080/"
        },
        "id": "OKnhMeLFpHxl",
        "outputId": "0a116939-0a5f-4714-96e6-cca784c7a45c"
      },
      "execution_count": 26,
      "outputs": [
        {
          "output_type": "execute_result",
          "data": {
            "text/plain": [
              "True"
            ]
          },
          "metadata": {},
          "execution_count": 26
        }
      ]
    },
    {
      "cell_type": "code",
      "source": [
        "def my_ieee_2_dec(ieee):\n",
        "    signb = int(ieee[0])\n",
        "    eb = ieee[1:12]\n",
        "    e=int(eb,2)\n",
        "\n",
        "    sb = ieee[12:]\n",
        "    s = 1.0\n",
        "    for i in range(len(sb)):\n",
        "        if sb[i] == \"1\":\n",
        "            s += 2**(-(i + 1))\n",
        "\n",
        "    if e == 0:\n",
        "        d = s\n",
        "    elif e == 2047:\n",
        "        if s == 0.0:\n",
        "            d = float(\"inf\") if signb == 0 else float(\"-inf\")\n",
        "        else:\n",
        "            d = float(\"nan\")\n",
        "    else:\n",
        "        d = (-1)**signb * s * 2**(e - 1023)\n",
        "    return d\n",
        "# Output: -48\n",
        "ieee = '1100000001001000000000000000000000000000000000000000000000000000'\n",
        "my_ieee_2_dec(ieee)"
      ],
      "metadata": {
        "colab": {
          "base_uri": "https://localhost:8080/"
        },
        "id": "YQ3755t_wrKz",
        "outputId": "c7d33c74-4884-4833-e3b7-ea5ad5c6adee"
      },
      "execution_count": 35,
      "outputs": [
        {
          "output_type": "execute_result",
          "data": {
            "text/plain": [
              "-48.0"
            ]
          },
          "metadata": {},
          "execution_count": 35
        }
      ]
    },
    {
      "cell_type": "code",
      "source": [
        "# Round off errors\n",
        "def add_and_subtract(iterations):\n",
        "    result = 1\n",
        "\n",
        "    for i in range(iterations):\n",
        "        result += 1/3\n",
        "\n",
        "    for i in range(iterations):\n",
        "        result -= 1/3\n",
        "    return result"
      ],
      "metadata": {
        "id": "oyKLIWl3yt7i"
      },
      "execution_count": null,
      "outputs": []
    }
  ]
}