{
  "nbformat": 4,
  "nbformat_minor": 0,
  "metadata": {
    "colab": {
      "provenance": [],
      "authorship_tag": "ABX9TyNfTTIzt3cLyg9eacQmo3AQ",
      "include_colab_link": true
    },
    "kernelspec": {
      "name": "python3",
      "display_name": "Python 3"
    },
    "language_info": {
      "name": "python"
    }
  },
  "cells": [
    {
      "cell_type": "markdown",
      "metadata": {
        "id": "view-in-github",
        "colab_type": "text"
      },
      "source": [
        "<a href=\"https://colab.research.google.com/github/eqmugge/MAT421/blob/main/MAT_421_Module_G.ipynb\" target=\"_parent\"><img src=\"https://colab.research.google.com/assets/colab-badge.svg\" alt=\"Open In Colab\"/></a>"
      ]
    },
    {
      "cell_type": "markdown",
      "source": [
        "Simpson's Rule"
      ],
      "metadata": {
        "id": "n7rQzkSFjXsF"
      }
    },
    {
      "cell_type": "markdown",
      "source": [
        "- approximates the area under f(x) over the subintervals [xi−1,xi] and [xi,xi+1]\n",
        "- Calculates area using a unique quadratic equation passing through the points (xi−1,f(xi−1)),(xi,f(xi)), and (xi+1,f(xi+1))\n",
        "- Integrates the equation exactly."
      ],
      "metadata": {
        "id": "ANiRaLwqiaQd"
      }
    },
    {
      "cell_type": "markdown",
      "source": [
        "![image.png](data:image/png;base64,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)"
      ],
      "metadata": {
        "id": "1v5vYa4IjUYH"
      }
    },
    {
      "cell_type": "markdown",
      "source": [
        " ∫sin(x)dx from 0 to π using 11 steps\n",
        ""
      ],
      "metadata": {
        "id": "CYBAiXyLjfBA"
      }
    },
    {
      "cell_type": "code",
      "source": [
        "import numpy as np\n",
        "\n",
        "## a = lower bounds, b = upper bounds, n = steps\n",
        "a = 0\n",
        "b = np.pi\n",
        "n = 11\n",
        "h = (b - a) / (n - 1)\n",
        "x = np.linspace(a, b, n)\n",
        "f = np.sin(x)\n",
        "\n",
        "I_simp = (h/3) * (f[0] + 2*sum(f[:n-2:2]) \\\n",
        "            + 4*sum(f[1:n-1:2]) + f[n-1])\n",
        "err_simp = 2 - I_simp\n",
        "\n",
        "print(I_simp)\n",
        "print(err_simp)"
      ],
      "metadata": {
        "colab": {
          "base_uri": "https://localhost:8080/"
        },
        "id": "wzgpOtxljdW-",
        "outputId": "4820a48f-98c4-40bb-d238-2ceb38ba8708"
      },
      "execution_count": 1,
      "outputs": [
        {
          "output_type": "stream",
          "name": "stdout",
          "text": [
            "2.0001095173150043\n",
            "-0.00010951731500430384\n"
          ]
        }
      ]
    },
    {
      "cell_type": "markdown",
      "source": [
        "∫sin(x)dx from 0 to π but with 30 steps"
      ],
      "metadata": {
        "id": "CvZJhhrhkqFe"
      }
    },
    {
      "cell_type": "code",
      "source": [
        "import numpy as np\n",
        "\n",
        "## a = lower bounds, b = upper bounds, n = steps\n",
        "a = 0\n",
        "b = np.pi\n",
        "n = 30\n",
        "h = (b - a) / (n - 1)\n",
        "x = np.linspace(a, b, n)\n",
        "f = np.sin(x)\n",
        "\n",
        "I_simp = (h/3) * (f[0] + 2*sum(f[:n-2:2]) \\\n",
        "            + 4*sum(f[1:n-1:2]) + f[n-1])\n",
        "err_simp = 2 - I_simp\n",
        "\n",
        "print(I_simp)\n",
        "print(err_simp)"
      ],
      "metadata": {
        "colab": {
          "base_uri": "https://localhost:8080/"
        },
        "id": "kCkkS6BnkkR2",
        "outputId": "d6dd5d4c-6e8c-4099-b9fc-64379d219249"
      },
      "execution_count": 2,
      "outputs": [
        {
          "output_type": "stream",
          "name": "stdout",
          "text": [
            "1.9902352791546007\n",
            "0.009764720845399255\n"
          ]
        }
      ]
    },
    {
      "cell_type": "markdown",
      "source": [
        "∫sin(x)dx from 0 to π but with 100 steps"
      ],
      "metadata": {
        "id": "8LJWiGw_k6lh"
      }
    },
    {
      "cell_type": "code",
      "source": [
        "import numpy as np\n",
        "\n",
        "## a = lower bounds, b = upper bounds, n = steps\n",
        "a = 0\n",
        "b = np.pi\n",
        "n = 100\n",
        "h = (b - a) / (n - 1)\n",
        "x = np.linspace(a, b, n)\n",
        "f = np.sin(x)\n",
        "\n",
        "I_simp = (h/3) * (f[0] + 2*sum(f[:n-2:2]) \\\n",
        "            + 4*sum(f[1:n-1:2]) + f[n-1])\n",
        "err_simp = 2 - I_simp\n",
        "\n",
        "print(I_simp)\n",
        "print(err_simp)"
      ],
      "metadata": {
        "colab": {
          "base_uri": "https://localhost:8080/"
        },
        "id": "zKQIOJ9LlA5P",
        "outputId": "77b58e7c-ac3c-4dc5-d206-c628f8b8fdfd"
      },
      "execution_count": 3,
      "outputs": [
        {
          "output_type": "stream",
          "name": "stdout",
          "text": [
            "1.9991609434038167\n",
            "0.0008390565961833296\n"
          ]
        }
      ]
    }
  ]
}