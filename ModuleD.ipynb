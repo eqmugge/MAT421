{
  "nbformat": 4,
  "nbformat_minor": 0,
  "metadata": {
    "colab": {
      "provenance": [],
      "authorship_tag": "ABX9TyOLwhZHe8x7xOE6AuJniXhU",
      "include_colab_link": true
    },
    "kernelspec": {
      "name": "python3",
      "display_name": "Python 3"
    },
    "language_info": {
      "name": "python"
    }
  },
  "cells": [
    {
      "cell_type": "markdown",
      "metadata": {
        "id": "view-in-github",
        "colab_type": "text"
      },
      "source": [
        "<a href=\"https://colab.research.google.com/github/eqmugge/MAT421/blob/main/ModuleD.ipynb\" target=\"_parent\"><img src=\"https://colab.research.google.com/assets/colab-badge.svg\" alt=\"Open In Colab\"/></a>"
      ]
    },
    {
      "cell_type": "code",
      "execution_count": 6,
      "metadata": {
        "colab": {
          "base_uri": "https://localhost:8080/"
        },
        "id": "VWB_l9GRwl5Y",
        "outputId": "c170b52f-3329-4b56-904a-e720344082b1"
      },
      "outputs": [
        {
          "output_type": "stream",
          "name": "stdout",
          "text": [
            "Vector shapes\n",
            "(1, 5)\n",
            "(4, 1)\n",
            "\n",
            "Finding vector Lnorms\n",
            "[[ 1]\n",
            " [-5]\n",
            " [ 3]\n",
            " [ 2]\n",
            " [ 4]]\n",
            "L_1 is: 15.0\n",
            "L_2 is: 7.4\n",
            "L_inf is: 5.0\n"
          ]
        }
      ],
      "source": [
        "import numpy as np\n",
        "vector_row = np.array([[1, -5, 3, 2, 4]])\n",
        "vector_column = np.array([[1],\n",
        "                          [2],\n",
        "                          [3],\n",
        "                          [4]])\n",
        "print(\"Vector shapes\")\n",
        "print(vector_row.shape)\n",
        "print(vector_column.shape)\n",
        "print(\"\")\n",
        "\n",
        "from numpy.linalg import norm\n",
        "new_vector = vector_row.T\n",
        "print(\"Finding vector Lnorms\")\n",
        "print(new_vector)\n",
        "norm_1 = norm(new_vector, 1)\n",
        "norm_2 = norm(new_vector, 2)\n",
        "norm_inf = norm(new_vector, np.inf)\n",
        "print('L_1 is: %.1f'%norm_1)\n",
        "print('L_2 is: %.1f'%norm_2)\n",
        "print('L_inf is: %.1f'%norm_inf)"
      ]
    },
    {
      "cell_type": "code",
      "source": [
        "#Practice Problems\n",
        "import numpy as np\n",
        "vector_row = np.array([[12,24,0,11,-24,18,15],\n",
        "              [19,38,0,10,-31,25,9],\n",
        "              [1,2,0,21,-5,3,20],\n",
        "              [6,12,0,13,-10,8,5],\n",
        "              [22,44,0,2,-12,17,23]])\n",
        "\n",
        "print(\"Vector shapes\")\n",
        "print(vector_row.shape)\n",
        "print(\"\")\n",
        "\n",
        "from numpy.linalg import norm\n",
        "new_vector = vector_row.T\n",
        "print(\"Finding vector Lnorms\")\n",
        "print(new_vector)\n",
        "norm_1 = norm(new_vector, 1)\n",
        "norm_2 = norm(new_vector, 2)\n",
        "norm_inf = norm(new_vector, np.inf)\n",
        "print('L_1 is: %.1f'%norm_1)\n",
        "print('L_2 is: %.1f'%norm_2)\n",
        "print('L_inf is: %.1f'%norm_inf)"
      ],
      "metadata": {
        "colab": {
          "base_uri": "https://localhost:8080/"
        },
        "id": "cVf5XK323rXW",
        "outputId": "d59b5c5c-ec54-4838-e9ca-098ed75ebd9e"
      },
      "execution_count": 10,
      "outputs": [
        {
          "output_type": "stream",
          "name": "stdout",
          "text": [
            "Vector shapes\n",
            "(5, 7)\n",
            "\n",
            "Finding vector Lnorms\n",
            "[[ 12  19   1   6  22]\n",
            " [ 24  38   2  12  44]\n",
            " [  0   0   0   0   0]\n",
            " [ 11  10  21  13   2]\n",
            " [-24 -31  -5 -10 -12]\n",
            " [ 18  25   3   8  17]\n",
            " [ 15   9  20   5  23]]\n",
            "L_1 is: 132.0\n",
            "L_2 is: 95.3\n",
            "L_inf is: 120.0\n"
          ]
        }
      ]
    },
    {
      "cell_type": "code",
      "source": [
        "from numpy import arccos, dot\n",
        "\n",
        "v = np.array([[10, 9, 3]])\n",
        "w = np.array([[2, 5, 12]])\n",
        "theta = \\\n",
        "    arccos(dot(v, w.T)/(norm(v)*norm(w)))\n",
        "print(theta)"
      ],
      "metadata": {
        "colab": {
          "base_uri": "https://localhost:8080/"
        },
        "id": "LiRoXLFw3Gg5",
        "outputId": "54e883b6-345d-47fb-f471-f9c3363eaf4e"
      },
      "execution_count": 7,
      "outputs": [
        {
          "output_type": "stream",
          "name": "stdout",
          "text": [
            "[[0.97992471]]\n"
          ]
        }
      ]
    },
    {
      "cell_type": "code",
      "source": [
        "#Practice Problems\n",
        "from numpy import arccos, dot\n",
        "\n",
        "v = np.array([[1], [0.001]])\n",
        "w = np.array([[0.001], [1]])\n",
        "\n",
        "theta = \\\n",
        "    arccos(dot(v, w.T)/(norm(v)*norm(w)))\n",
        "print(theta)"
      ],
      "metadata": {
        "colab": {
          "base_uri": "https://localhost:8080/"
        },
        "id": "NVvSbDrK4OIz",
        "outputId": "1431f0aa-5ead-43a8-9a1e-d9af5d671410"
      },
      "execution_count": 16,
      "outputs": [
        {
          "output_type": "stream",
          "name": "stdout",
          "text": [
            "[[1.56979633e+00 1.41421297e-03]\n",
            " [1.57079533e+00 1.56979633e+00]]\n"
          ]
        }
      ]
    },
    {
      "cell_type": "code",
      "source": [
        "v = np.array([[0, 2, 0]])\n",
        "w = np.array([[3, 0, 0]])\n",
        "print(np.cross(v, w))"
      ],
      "metadata": {
        "colab": {
          "base_uri": "https://localhost:8080/"
        },
        "id": "x2z-XszO3IQZ",
        "outputId": "4a63c405-016f-4622-e555-9a57a2e16139"
      },
      "execution_count": 8,
      "outputs": [
        {
          "output_type": "stream",
          "name": "stdout",
          "text": [
            "[[ 0  0 -6]]\n"
          ]
        }
      ]
    },
    {
      "cell_type": "code",
      "source": [
        "v = np.array([[0, 3, 2]])\n",
        "w = np.array([[4, 1, 1]])\n",
        "u = np.array([[0, -2, 0]])\n",
        "x = 3*v-2*w+4*u\n",
        "print(x)"
      ],
      "metadata": {
        "colab": {
          "base_uri": "https://localhost:8080/"
        },
        "id": "gxapLFJn3NyM",
        "outputId": "b332c088-1c80-4de5-9aab-c36ddf61f448"
      },
      "execution_count": 9,
      "outputs": [
        {
          "output_type": "stream",
          "name": "stdout",
          "text": [
            "[[-8 -1  4]]\n"
          ]
        }
      ]
    },
    {
      "cell_type": "code",
      "source": [
        "#Practice Problems\n",
        "v = np.array([[-1, 6, 2]])\n",
        "w = np.array([[2, 7, 1]])\n",
        "u = np.array([[0, -4, 3]])\n",
        "x = 3*v-2*w+4*u\n",
        "print(x)"
      ],
      "metadata": {
        "colab": {
          "base_uri": "https://localhost:8080/"
        },
        "id": "DHmTBSdq5MZV",
        "outputId": "9441fa41-313f-4481-c2f6-1f10a0c3b081"
      },
      "execution_count": 17,
      "outputs": [
        {
          "output_type": "stream",
          "name": "stdout",
          "text": [
            "[[ -7 -12  16]]\n"
          ]
        }
      ]
    }
  ]
}